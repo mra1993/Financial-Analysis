{
 "cells": [
  {
   "cell_type": "markdown",
   "metadata": {},
   "source": [
    "Financial Risk Analysis - Evaluation Investment Portfolios"
   ]
  },
  {
   "cell_type": "markdown",
   "metadata": {},
   "source": [
    "#Objective:\n",
    "This report involves evaluating the risk and performance of different investment portfolios using historical financial data. The data would be statistically analysed so that it would help in making informed investment decisions."
   ]
  },
  {
   "cell_type": "code",
   "execution_count": 2,
   "metadata": {},
   "outputs": [
    {
     "name": "stdout",
     "output_type": "stream",
     "text": [
      "Collecting pandas\n",
      "  Using cached pandas-2.2.3-cp312-cp312-win_amd64.whl.metadata (19 kB)\n",
      "Collecting numpy\n",
      "  Using cached numpy-2.2.2-cp312-cp312-win_amd64.whl.metadata (60 kB)\n",
      "Collecting seaborn\n",
      "  Using cached seaborn-0.13.2-py3-none-any.whl.metadata (5.4 kB)\n",
      "Collecting matplotlib\n",
      "  Using cached matplotlib-3.10.0-cp312-cp312-win_amd64.whl.metadata (11 kB)\n",
      "Requirement already satisfied: python-dateutil>=2.8.2 in e:\\miniconda3\\envs\\financialriskanalysis\\lib\\site-packages (from pandas) (2.9.0.post0)\n",
      "Collecting pytz>=2020.1 (from pandas)\n",
      "  Using cached pytz-2024.2-py2.py3-none-any.whl.metadata (22 kB)\n",
      "Collecting tzdata>=2022.7 (from pandas)\n",
      "  Using cached tzdata-2025.1-py2.py3-none-any.whl.metadata (1.4 kB)\n",
      "Collecting contourpy>=1.0.1 (from matplotlib)\n",
      "  Using cached contourpy-1.3.1-cp312-cp312-win_amd64.whl.metadata (5.4 kB)\n",
      "Collecting cycler>=0.10 (from matplotlib)\n",
      "  Using cached cycler-0.12.1-py3-none-any.whl.metadata (3.8 kB)\n",
      "Collecting fonttools>=4.22.0 (from matplotlib)\n",
      "  Using cached fonttools-4.55.5-cp312-cp312-win_amd64.whl.metadata (169 kB)\n",
      "Collecting kiwisolver>=1.3.1 (from matplotlib)\n",
      "  Using cached kiwisolver-1.4.8-cp312-cp312-win_amd64.whl.metadata (6.3 kB)\n",
      "Requirement already satisfied: packaging>=20.0 in e:\\miniconda3\\envs\\financialriskanalysis\\lib\\site-packages (from matplotlib) (24.2)\n",
      "Collecting pillow>=8 (from matplotlib)\n",
      "  Using cached pillow-11.1.0-cp312-cp312-win_amd64.whl.metadata (9.3 kB)\n",
      "Collecting pyparsing>=2.3.1 (from matplotlib)\n",
      "  Using cached pyparsing-3.2.1-py3-none-any.whl.metadata (5.0 kB)\n",
      "Requirement already satisfied: six>=1.5 in e:\\miniconda3\\envs\\financialriskanalysis\\lib\\site-packages (from python-dateutil>=2.8.2->pandas) (1.17.0)\n",
      "Using cached pandas-2.2.3-cp312-cp312-win_amd64.whl (11.5 MB)\n",
      "Using cached numpy-2.2.2-cp312-cp312-win_amd64.whl (12.6 MB)\n",
      "Using cached seaborn-0.13.2-py3-none-any.whl (294 kB)\n",
      "Using cached matplotlib-3.10.0-cp312-cp312-win_amd64.whl (8.0 MB)\n",
      "Using cached contourpy-1.3.1-cp312-cp312-win_amd64.whl (220 kB)\n",
      "Using cached cycler-0.12.1-py3-none-any.whl (8.3 kB)\n",
      "Using cached fonttools-4.55.5-cp312-cp312-win_amd64.whl (2.2 MB)\n",
      "Using cached kiwisolver-1.4.8-cp312-cp312-win_amd64.whl (71 kB)\n",
      "Using cached pillow-11.1.0-cp312-cp312-win_amd64.whl (2.6 MB)\n",
      "Using cached pyparsing-3.2.1-py3-none-any.whl (107 kB)\n",
      "Using cached pytz-2024.2-py2.py3-none-any.whl (508 kB)\n",
      "Using cached tzdata-2025.1-py2.py3-none-any.whl (346 kB)\n",
      "Installing collected packages: pytz, tzdata, pyparsing, pillow, numpy, kiwisolver, fonttools, cycler, pandas, contourpy, matplotlib, seaborn\n",
      "Successfully installed contourpy-1.3.1 cycler-0.12.1 fonttools-4.55.5 kiwisolver-1.4.8 matplotlib-3.10.0 numpy-2.2.2 pandas-2.2.3 pillow-11.1.0 pyparsing-3.2.1 pytz-2024.2 seaborn-0.13.2 tzdata-2025.1\n",
      "Note: you may need to restart the kernel to use updated packages.\n"
     ]
    }
   ],
   "source": [
    "%pip install pandas numpy seaborn matplotlib\n",
    "\n",
    "import pandas as pd\n",
    "import numpy as np\n",
    "import seaborn as sns\n",
    "import matplotlib.pyplot as plt\n",
    "\n",
    "plt.style.use('ggplot')"
   ]
  },
  {
   "cell_type": "code",
   "execution_count": 2,
   "metadata": {},
   "outputs": [],
   "source": [
    "import pandas as pd\n",
    "import numpy as np\n",
    "import seaborn as sns\n",
    "import matplotlib.pyplot as plt\n",
    "\n",
    "plt.style.use('ggplot')"
   ]
  },
  {
   "cell_type": "code",
   "execution_count": 6,
   "metadata": {},
   "outputs": [
    {
     "data": {
      "text/html": [
       "<div>\n",
       "<style scoped>\n",
       "    .dataframe tbody tr th:only-of-type {\n",
       "        vertical-align: middle;\n",
       "    }\n",
       "\n",
       "    .dataframe tbody tr th {\n",
       "        vertical-align: top;\n",
       "    }\n",
       "\n",
       "    .dataframe thead th {\n",
       "        text-align: right;\n",
       "    }\n",
       "</style>\n",
       "<table border=\"1\" class=\"dataframe\">\n",
       "  <thead>\n",
       "    <tr style=\"text-align: right;\">\n",
       "      <th></th>\n",
       "      <th>Date</th>\n",
       "      <th>Asset</th>\n",
       "      <th>Price</th>\n",
       "    </tr>\n",
       "  </thead>\n",
       "  <tbody>\n",
       "    <tr>\n",
       "      <th>0</th>\n",
       "      <td>2023-07-10</td>\n",
       "      <td>Bond B</td>\n",
       "      <td>385.64</td>\n",
       "    </tr>\n",
       "    <tr>\n",
       "      <th>1</th>\n",
       "      <td>2023-03-03</td>\n",
       "      <td>Stock B</td>\n",
       "      <td>297.20</td>\n",
       "    </tr>\n",
       "    <tr>\n",
       "      <th>2</th>\n",
       "      <td>2023-09-13</td>\n",
       "      <td>Bond B</td>\n",
       "      <td>75.98</td>\n",
       "    </tr>\n",
       "    <tr>\n",
       "      <th>3</th>\n",
       "      <td>2023-01-07</td>\n",
       "      <td>Bond B</td>\n",
       "      <td>356.34</td>\n",
       "    </tr>\n",
       "    <tr>\n",
       "      <th>4</th>\n",
       "      <td>2023-06-04</td>\n",
       "      <td>Stock A</td>\n",
       "      <td>260.05</td>\n",
       "    </tr>\n",
       "    <tr>\n",
       "      <th>5</th>\n",
       "      <td>2023-04-02</td>\n",
       "      <td>Bond B</td>\n",
       "      <td>65.51</td>\n",
       "    </tr>\n",
       "    <tr>\n",
       "      <th>6</th>\n",
       "      <td>2023-01-14</td>\n",
       "      <td>Commodity A</td>\n",
       "      <td>486.32</td>\n",
       "    </tr>\n",
       "    <tr>\n",
       "      <th>7</th>\n",
       "      <td>2023-08-17</td>\n",
       "      <td>Commodity A</td>\n",
       "      <td>477.10</td>\n",
       "    </tr>\n",
       "    <tr>\n",
       "      <th>8</th>\n",
       "      <td>2023-03-27</td>\n",
       "      <td>Stock A</td>\n",
       "      <td>280.81</td>\n",
       "    </tr>\n",
       "    <tr>\n",
       "      <th>9</th>\n",
       "      <td>2023-05-13</td>\n",
       "      <td>Stock B</td>\n",
       "      <td>92.15</td>\n",
       "    </tr>\n",
       "  </tbody>\n",
       "</table>\n",
       "</div>"
      ],
      "text/plain": [
       "         Date        Asset   Price\n",
       "0  2023-07-10       Bond B  385.64\n",
       "1  2023-03-03      Stock B  297.20\n",
       "2  2023-09-13       Bond B   75.98\n",
       "3  2023-01-07       Bond B  356.34\n",
       "4  2023-06-04      Stock A  260.05\n",
       "5  2023-04-02       Bond B   65.51\n",
       "6  2023-01-14  Commodity A  486.32\n",
       "7  2023-08-17  Commodity A  477.10\n",
       "8  2023-03-27      Stock A  280.81\n",
       "9  2023-05-13      Stock B   92.15"
      ]
     },
     "execution_count": 6,
     "metadata": {},
     "output_type": "execute_result"
    }
   ],
   "source": [
    "data = pd.read_csv(r'E:\\Python finance projects\\Projects for Github\\financial_portfolio_data.csv')\n",
    "data.head(10)"
   ]
  },
  {
   "cell_type": "code",
   "execution_count": 8,
   "metadata": {},
   "outputs": [
    {
     "name": "stdout",
     "output_type": "stream",
     "text": [
      "<class 'pandas.core.frame.DataFrame'>\n",
      "RangeIndex: 500 entries, 0 to 499\n",
      "Data columns (total 3 columns):\n",
      " #   Column  Non-Null Count  Dtype  \n",
      "---  ------  --------------  -----  \n",
      " 0   Date    500 non-null    object \n",
      " 1   Asset   500 non-null    object \n",
      " 2   Price   500 non-null    float64\n",
      "dtypes: float64(1), object(2)\n",
      "memory usage: 11.8+ KB\n"
     ]
    }
   ],
   "source": [
    "data.shape\n",
    "data.info()"
   ]
  },
  {
   "cell_type": "code",
   "execution_count": 9,
   "metadata": {},
   "outputs": [
    {
     "name": "stdout",
     "output_type": "stream",
     "text": [
      "<class 'pandas.core.frame.DataFrame'>\n",
      "RangeIndex: 500 entries, 0 to 499\n",
      "Data columns (total 3 columns):\n",
      " #   Column  Non-Null Count  Dtype         \n",
      "---  ------  --------------  -----         \n",
      " 0   Date    500 non-null    datetime64[ns]\n",
      " 1   Asset   500 non-null    object        \n",
      " 2   Price   500 non-null    float64       \n",
      "dtypes: datetime64[ns](1), float64(1), object(1)\n",
      "memory usage: 11.8+ KB\n"
     ]
    }
   ],
   "source": [
    "data[\"Date\"] = pd.to_datetime(data[\"Date\"], format = '%Y-%m-%d')\n",
    "data.info()"
   ]
  },
  {
   "cell_type": "code",
   "execution_count": 10,
   "metadata": {},
   "outputs": [
    {
     "data": {
      "text/html": [
       "<div>\n",
       "<style scoped>\n",
       "    .dataframe tbody tr th:only-of-type {\n",
       "        vertical-align: middle;\n",
       "    }\n",
       "\n",
       "    .dataframe tbody tr th {\n",
       "        vertical-align: top;\n",
       "    }\n",
       "\n",
       "    .dataframe thead th {\n",
       "        text-align: right;\n",
       "    }\n",
       "</style>\n",
       "<table border=\"1\" class=\"dataframe\">\n",
       "  <thead>\n",
       "    <tr style=\"text-align: right;\">\n",
       "      <th></th>\n",
       "      <th>Date</th>\n",
       "      <th>Price</th>\n",
       "    </tr>\n",
       "  </thead>\n",
       "  <tbody>\n",
       "    <tr>\n",
       "      <th>count</th>\n",
       "      <td>500</td>\n",
       "      <td>500.000000</td>\n",
       "    </tr>\n",
       "    <tr>\n",
       "      <th>mean</th>\n",
       "      <td>2023-06-23 09:36:00</td>\n",
       "      <td>281.357720</td>\n",
       "    </tr>\n",
       "    <tr>\n",
       "      <th>min</th>\n",
       "      <td>2023-01-02 00:00:00</td>\n",
       "      <td>50.200000</td>\n",
       "    </tr>\n",
       "    <tr>\n",
       "      <th>25%</th>\n",
       "      <td>2023-03-28 00:00:00</td>\n",
       "      <td>169.945000</td>\n",
       "    </tr>\n",
       "    <tr>\n",
       "      <th>50%</th>\n",
       "      <td>2023-06-21 12:00:00</td>\n",
       "      <td>289.120000</td>\n",
       "    </tr>\n",
       "    <tr>\n",
       "      <th>75%</th>\n",
       "      <td>2023-09-13 00:00:00</td>\n",
       "      <td>393.132500</td>\n",
       "    </tr>\n",
       "    <tr>\n",
       "      <th>max</th>\n",
       "      <td>2023-12-31 00:00:00</td>\n",
       "      <td>499.790000</td>\n",
       "    </tr>\n",
       "    <tr>\n",
       "      <th>std</th>\n",
       "      <td>NaN</td>\n",
       "      <td>130.978208</td>\n",
       "    </tr>\n",
       "  </tbody>\n",
       "</table>\n",
       "</div>"
      ],
      "text/plain": [
       "                      Date       Price\n",
       "count                  500  500.000000\n",
       "mean   2023-06-23 09:36:00  281.357720\n",
       "min    2023-01-02 00:00:00   50.200000\n",
       "25%    2023-03-28 00:00:00  169.945000\n",
       "50%    2023-06-21 12:00:00  289.120000\n",
       "75%    2023-09-13 00:00:00  393.132500\n",
       "max    2023-12-31 00:00:00  499.790000\n",
       "std                    NaN  130.978208"
      ]
     },
     "execution_count": 10,
     "metadata": {},
     "output_type": "execute_result"
    }
   ],
   "source": [
    "data.describe()"
   ]
  },
  {
   "cell_type": "code",
   "execution_count": 11,
   "metadata": {},
   "outputs": [
    {
     "data": {
      "text/html": [
       "<div>\n",
       "<style scoped>\n",
       "    .dataframe tbody tr th:only-of-type {\n",
       "        vertical-align: middle;\n",
       "    }\n",
       "\n",
       "    .dataframe tbody tr th {\n",
       "        vertical-align: top;\n",
       "    }\n",
       "\n",
       "    .dataframe thead th {\n",
       "        text-align: right;\n",
       "    }\n",
       "</style>\n",
       "<table border=\"1\" class=\"dataframe\">\n",
       "  <thead>\n",
       "    <tr style=\"text-align: right;\">\n",
       "      <th></th>\n",
       "      <th>count</th>\n",
       "    </tr>\n",
       "    <tr>\n",
       "      <th>Asset</th>\n",
       "      <th></th>\n",
       "    </tr>\n",
       "  </thead>\n",
       "  <tbody>\n",
       "    <tr>\n",
       "      <th>Bond B</th>\n",
       "      <td>110</td>\n",
       "    </tr>\n",
       "    <tr>\n",
       "      <th>Bond A</th>\n",
       "      <td>109</td>\n",
       "    </tr>\n",
       "    <tr>\n",
       "      <th>Commodity A</th>\n",
       "      <td>106</td>\n",
       "    </tr>\n",
       "    <tr>\n",
       "      <th>Stock A</th>\n",
       "      <td>101</td>\n",
       "    </tr>\n",
       "    <tr>\n",
       "      <th>Stock B</th>\n",
       "      <td>74</td>\n",
       "    </tr>\n",
       "  </tbody>\n",
       "</table>\n",
       "</div>"
      ],
      "text/plain": [
       "             count\n",
       "Asset             \n",
       "Bond B         110\n",
       "Bond A         109\n",
       "Commodity A    106\n",
       "Stock A        101\n",
       "Stock B         74"
      ]
     },
     "execution_count": 11,
     "metadata": {},
     "output_type": "execute_result"
    }
   ],
   "source": [
    "pd.DataFrame(data[\"Asset\"].value_counts())"
   ]
  },
  {
   "cell_type": "code",
   "execution_count": 13,
   "metadata": {},
   "outputs": [
    {
     "name": "stdout",
     "output_type": "stream",
     "text": [
      "<class 'pandas.core.frame.DataFrame'>\n",
      "Index: 139 entries, 8 to 491\n",
      "Data columns (total 3 columns):\n",
      " #   Column  Non-Null Count  Dtype         \n",
      "---  ------  --------------  -----         \n",
      " 0   Date    139 non-null    datetime64[ns]\n",
      " 1   Asset   139 non-null    object        \n",
      " 2   Price   139 non-null    float64       \n",
      "dtypes: datetime64[ns](1), float64(1), object(1)\n",
      "memory usage: 4.3+ KB\n"
     ]
    }
   ],
   "source": [
    "duplicates = data[data.duplicated(subset=['Date', 'Asset'], keep=False)]\n",
    "duplicates.info()"
   ]
  },
  {
   "cell_type": "code",
   "execution_count": 14,
   "metadata": {},
   "outputs": [
    {
     "name": "stdout",
     "output_type": "stream",
     "text": [
      "<class 'pandas.core.frame.DataFrame'>\n",
      "RangeIndex: 425 entries, 0 to 424\n",
      "Data columns (total 3 columns):\n",
      " #   Column  Non-Null Count  Dtype         \n",
      "---  ------  --------------  -----         \n",
      " 0   Date    425 non-null    datetime64[ns]\n",
      " 1   Asset   425 non-null    object        \n",
      " 2   Price   425 non-null    float64       \n",
      "dtypes: datetime64[ns](1), float64(1), object(1)\n",
      "memory usage: 10.1+ KB\n"
     ]
    }
   ],
   "source": [
    "aggregated_data = data.groupby(['Date', 'Asset']).agg({'Price': 'last'}).reset_index()\n",
    "aggregated_data.info()"
   ]
  },
  {
   "cell_type": "code",
   "execution_count": 15,
   "metadata": {},
   "outputs": [],
   "source": [
    "data = aggregated_data"
   ]
  },
  {
   "cell_type": "code",
   "execution_count": 16,
   "metadata": {},
   "outputs": [
    {
     "data": {
      "text/html": [
       "<div>\n",
       "<style scoped>\n",
       "    .dataframe tbody tr th:only-of-type {\n",
       "        vertical-align: middle;\n",
       "    }\n",
       "\n",
       "    .dataframe tbody tr th {\n",
       "        vertical-align: top;\n",
       "    }\n",
       "\n",
       "    .dataframe thead th {\n",
       "        text-align: right;\n",
       "    }\n",
       "</style>\n",
       "<table border=\"1\" class=\"dataframe\">\n",
       "  <thead>\n",
       "    <tr style=\"text-align: right;\">\n",
       "      <th></th>\n",
       "      <th>Asset</th>\n",
       "      <th>Price</th>\n",
       "    </tr>\n",
       "    <tr>\n",
       "      <th>Date</th>\n",
       "      <th></th>\n",
       "      <th></th>\n",
       "    </tr>\n",
       "  </thead>\n",
       "  <tbody>\n",
       "    <tr>\n",
       "      <th>2023-01-02</th>\n",
       "      <td>Stock A</td>\n",
       "      <td>172.15</td>\n",
       "    </tr>\n",
       "    <tr>\n",
       "      <th>2023-01-03</th>\n",
       "      <td>Bond A</td>\n",
       "      <td>198.61</td>\n",
       "    </tr>\n",
       "    <tr>\n",
       "      <th>2023-01-03</th>\n",
       "      <td>Commodity A</td>\n",
       "      <td>453.23</td>\n",
       "    </tr>\n",
       "    <tr>\n",
       "      <th>2023-01-03</th>\n",
       "      <td>Stock A</td>\n",
       "      <td>488.57</td>\n",
       "    </tr>\n",
       "    <tr>\n",
       "      <th>2023-01-04</th>\n",
       "      <td>Bond A</td>\n",
       "      <td>142.24</td>\n",
       "    </tr>\n",
       "  </tbody>\n",
       "</table>\n",
       "</div>"
      ],
      "text/plain": [
       "                  Asset   Price\n",
       "Date                           \n",
       "2023-01-02      Stock A  172.15\n",
       "2023-01-03       Bond A  198.61\n",
       "2023-01-03  Commodity A  453.23\n",
       "2023-01-03      Stock A  488.57\n",
       "2023-01-04       Bond A  142.24"
      ]
     },
     "execution_count": 16,
     "metadata": {},
     "output_type": "execute_result"
    }
   ],
   "source": [
    "data.set_index(\"Date\", inplace=True)\n",
    "data.head()"
   ]
  },
  {
   "cell_type": "code",
   "execution_count": 17,
   "metadata": {},
   "outputs": [
    {
     "data": {
      "text/html": [
       "<div>\n",
       "<style scoped>\n",
       "    .dataframe tbody tr th:only-of-type {\n",
       "        vertical-align: middle;\n",
       "    }\n",
       "\n",
       "    .dataframe tbody tr th {\n",
       "        vertical-align: top;\n",
       "    }\n",
       "\n",
       "    .dataframe thead th {\n",
       "        text-align: right;\n",
       "    }\n",
       "</style>\n",
       "<table border=\"1\" class=\"dataframe\">\n",
       "  <thead>\n",
       "    <tr style=\"text-align: right;\">\n",
       "      <th></th>\n",
       "      <th>Asset</th>\n",
       "      <th>Price</th>\n",
       "    </tr>\n",
       "    <tr>\n",
       "      <th>Date</th>\n",
       "      <th></th>\n",
       "      <th></th>\n",
       "    </tr>\n",
       "  </thead>\n",
       "  <tbody>\n",
       "    <tr>\n",
       "      <th>2023-01-03</th>\n",
       "      <td>Bond A</td>\n",
       "      <td>198.61</td>\n",
       "    </tr>\n",
       "    <tr>\n",
       "      <th>2023-01-04</th>\n",
       "      <td>Bond A</td>\n",
       "      <td>142.24</td>\n",
       "    </tr>\n",
       "    <tr>\n",
       "      <th>2023-01-08</th>\n",
       "      <td>Bond A</td>\n",
       "      <td>146.58</td>\n",
       "    </tr>\n",
       "    <tr>\n",
       "      <th>2023-01-11</th>\n",
       "      <td>Bond A</td>\n",
       "      <td>473.20</td>\n",
       "    </tr>\n",
       "    <tr>\n",
       "      <th>2023-01-13</th>\n",
       "      <td>Bond A</td>\n",
       "      <td>376.57</td>\n",
       "    </tr>\n",
       "  </tbody>\n",
       "</table>\n",
       "</div>"
      ],
      "text/plain": [
       "             Asset   Price\n",
       "Date                      \n",
       "2023-01-03  Bond A  198.61\n",
       "2023-01-04  Bond A  142.24\n",
       "2023-01-08  Bond A  146.58\n",
       "2023-01-11  Bond A  473.20\n",
       "2023-01-13  Bond A  376.57"
      ]
     },
     "execution_count": 17,
     "metadata": {},
     "output_type": "execute_result"
    }
   ],
   "source": [
    "data.sort_values(by=[\"Asset\", \"Date\"], inplace=True)\n",
    "data.head()"
   ]
  },
  {
   "cell_type": "code",
   "execution_count": 18,
   "metadata": {},
   "outputs": [
    {
     "name": "stdout",
     "output_type": "stream",
     "text": [
      "<class 'pandas.core.series.Series'>\n",
      "DatetimeIndex: 425 entries, 2023-01-03 to 2023-12-22\n",
      "Series name: Price\n",
      "Non-Null Count  Dtype  \n",
      "--------------  -----  \n",
      "424 non-null    float64\n",
      "dtypes: float64(1)\n",
      "memory usage: 6.6 KB\n"
     ]
    }
   ],
   "source": [
    "return_series = (data[\"Price\"] - data[\"Price\"].shift(1)) / data[\"Price\"].shift(1)\n",
    "return_series.info()"
   ]
  },
  {
   "cell_type": "code",
   "execution_count": 19,
   "metadata": {},
   "outputs": [
    {
     "data": {
      "text/html": [
       "<div>\n",
       "<style scoped>\n",
       "    .dataframe tbody tr th:only-of-type {\n",
       "        vertical-align: middle;\n",
       "    }\n",
       "\n",
       "    .dataframe tbody tr th {\n",
       "        vertical-align: top;\n",
       "    }\n",
       "\n",
       "    .dataframe thead th {\n",
       "        text-align: right;\n",
       "    }\n",
       "</style>\n",
       "<table border=\"1\" class=\"dataframe\">\n",
       "  <thead>\n",
       "    <tr style=\"text-align: right;\">\n",
       "      <th></th>\n",
       "      <th>Asset</th>\n",
       "      <th>Price</th>\n",
       "      <th>return</th>\n",
       "    </tr>\n",
       "    <tr>\n",
       "      <th>Date</th>\n",
       "      <th></th>\n",
       "      <th></th>\n",
       "      <th></th>\n",
       "    </tr>\n",
       "  </thead>\n",
       "  <tbody>\n",
       "    <tr>\n",
       "      <th>2023-01-03</th>\n",
       "      <td>Bond A</td>\n",
       "      <td>198.61</td>\n",
       "      <td>NaN</td>\n",
       "    </tr>\n",
       "    <tr>\n",
       "      <th>2023-01-04</th>\n",
       "      <td>Bond A</td>\n",
       "      <td>142.24</td>\n",
       "      <td>-0.283823</td>\n",
       "    </tr>\n",
       "    <tr>\n",
       "      <th>2023-01-08</th>\n",
       "      <td>Bond A</td>\n",
       "      <td>146.58</td>\n",
       "      <td>0.030512</td>\n",
       "    </tr>\n",
       "    <tr>\n",
       "      <th>2023-01-11</th>\n",
       "      <td>Bond A</td>\n",
       "      <td>473.20</td>\n",
       "      <td>2.228271</td>\n",
       "    </tr>\n",
       "    <tr>\n",
       "      <th>2023-01-13</th>\n",
       "      <td>Bond A</td>\n",
       "      <td>376.57</td>\n",
       "      <td>-0.204205</td>\n",
       "    </tr>\n",
       "  </tbody>\n",
       "</table>\n",
       "</div>"
      ],
      "text/plain": [
       "             Asset   Price    return\n",
       "Date                                \n",
       "2023-01-03  Bond A  198.61       NaN\n",
       "2023-01-04  Bond A  142.24 -0.283823\n",
       "2023-01-08  Bond A  146.58  0.030512\n",
       "2023-01-11  Bond A  473.20  2.228271\n",
       "2023-01-13  Bond A  376.57 -0.204205"
      ]
     },
     "execution_count": 19,
     "metadata": {},
     "output_type": "execute_result"
    }
   ],
   "source": [
    "data[\"return\"] = data.groupby(\"Asset\")[\"Price\"].pct_change()\n",
    "data.head()"
   ]
  },
  {
   "cell_type": "code",
   "execution_count": 20,
   "metadata": {},
   "outputs": [
    {
     "name": "stdout",
     "output_type": "stream",
     "text": [
      "<class 'pandas.core.series.Series'>\n",
      "DatetimeIndex: 425 entries, 2023-01-03 to 2023-12-22\n",
      "Series name: return\n",
      "Non-Null Count  Dtype  \n",
      "--------------  -----  \n",
      "420 non-null    float64\n",
      "dtypes: float64(1)\n",
      "memory usage: 6.6 KB\n"
     ]
    }
   ],
   "source": [
    "data[\"return\"].info()"
   ]
  },
  {
   "cell_type": "code",
   "execution_count": 21,
   "metadata": {},
   "outputs": [
    {
     "data": {
      "text/html": [
       "<div>\n",
       "<style scoped>\n",
       "    .dataframe tbody tr th:only-of-type {\n",
       "        vertical-align: middle;\n",
       "    }\n",
       "\n",
       "    .dataframe tbody tr th {\n",
       "        vertical-align: top;\n",
       "    }\n",
       "\n",
       "    .dataframe thead tr th {\n",
       "        text-align: left;\n",
       "    }\n",
       "\n",
       "    .dataframe thead tr:last-of-type th {\n",
       "        text-align: right;\n",
       "    }\n",
       "</style>\n",
       "<table border=\"1\" class=\"dataframe\">\n",
       "  <thead>\n",
       "    <tr>\n",
       "      <th></th>\n",
       "      <th colspan=\"2\" halign=\"left\">return</th>\n",
       "      <th>Sharpe Ratio</th>\n",
       "    </tr>\n",
       "    <tr>\n",
       "      <th></th>\n",
       "      <th>Average Return</th>\n",
       "      <th>risk</th>\n",
       "      <th></th>\n",
       "    </tr>\n",
       "    <tr>\n",
       "      <th>Asset</th>\n",
       "      <th></th>\n",
       "      <th></th>\n",
       "      <th></th>\n",
       "    </tr>\n",
       "  </thead>\n",
       "  <tbody>\n",
       "    <tr>\n",
       "      <th>Bond A</th>\n",
       "      <td>0.392623</td>\n",
       "      <td>1.333953</td>\n",
       "      <td>0.294331</td>\n",
       "    </tr>\n",
       "    <tr>\n",
       "      <th>Bond B</th>\n",
       "      <td>0.383650</td>\n",
       "      <td>1.222397</td>\n",
       "      <td>0.313851</td>\n",
       "    </tr>\n",
       "    <tr>\n",
       "      <th>Commodity A</th>\n",
       "      <td>0.445066</td>\n",
       "      <td>1.360368</td>\n",
       "      <td>0.327166</td>\n",
       "    </tr>\n",
       "    <tr>\n",
       "      <th>Stock A</th>\n",
       "      <td>0.367105</td>\n",
       "      <td>1.267488</td>\n",
       "      <td>0.289632</td>\n",
       "    </tr>\n",
       "    <tr>\n",
       "      <th>Stock B</th>\n",
       "      <td>0.609861</td>\n",
       "      <td>1.706511</td>\n",
       "      <td>0.357373</td>\n",
       "    </tr>\n",
       "  </tbody>\n",
       "</table>\n",
       "</div>"
      ],
      "text/plain": [
       "                    return           Sharpe Ratio\n",
       "            Average Return      risk             \n",
       "Asset                                            \n",
       "Bond A            0.392623  1.333953     0.294331\n",
       "Bond B            0.383650  1.222397     0.313851\n",
       "Commodity A       0.445066  1.360368     0.327166\n",
       "Stock A           0.367105  1.267488     0.289632\n",
       "Stock B           0.609861  1.706511     0.357373"
      ]
     },
     "execution_count": 21,
     "metadata": {},
     "output_type": "execute_result"
    }
   ],
   "source": [
    "analyzed_return = data.groupby(\"Asset\").agg({\"return\": [\"mean\", \"std\"]}).rename(columns = {\"mean\": \"Average Return\", \"std\": \"risk\"})\n",
    "analyzed_return[\"Sharpe Ratio\"] = analyzed_return[\"return\"][\"Average Return\"] / analyzed_return[\"return\"][\"risk\"]\n",
    "analyzed_return"
   ]
  },
  {
   "cell_type": "code",
   "execution_count": 22,
   "metadata": {},
   "outputs": [],
   "source": [
    "best_asset = analyzed_return[\"Sharpe Ratio\"].idxmax()\n",
    "worst_asset = analyzed_return[\"Sharpe Ratio\"].idxmin()"
   ]
  },
  {
   "cell_type": "code",
   "execution_count": 24,
   "metadata": {},
   "outputs": [
    {
     "name": "stdout",
     "output_type": "stream",
     "text": [
      "The asset with the highest Sharpe Ratio is: Stock B with a Sharpe Ratio of 0.3573727581271892\n",
      "The asset with the lowest Sharpe Ratio is: Stock A with a Sharpe Ratio of 0.2896318507065823\n"
     ]
    }
   ],
   "source": [
    "print(f\"The asset with the highest Sharpe Ratio is: {best_asset} with a Sharpe Ratio of {analyzed_return['Sharpe Ratio'].max()}\")\n",
    "print(f\"The asset with the lowest Sharpe Ratio is: {worst_asset} with a Sharpe Ratio of {analyzed_return['Sharpe Ratio'].min()}\")"
   ]
  },
  {
   "cell_type": "code",
   "execution_count": 25,
   "metadata": {},
   "outputs": [
    {
     "data": {
      "text/html": [
       "<div>\n",
       "<style scoped>\n",
       "    .dataframe tbody tr th:only-of-type {\n",
       "        vertical-align: middle;\n",
       "    }\n",
       "\n",
       "    .dataframe tbody tr th {\n",
       "        vertical-align: top;\n",
       "    }\n",
       "\n",
       "    .dataframe thead th {\n",
       "        text-align: right;\n",
       "    }\n",
       "</style>\n",
       "<table border=\"1\" class=\"dataframe\">\n",
       "  <thead>\n",
       "    <tr style=\"text-align: right;\">\n",
       "      <th>Asset</th>\n",
       "      <th>Bond A</th>\n",
       "      <th>Bond B</th>\n",
       "      <th>Commodity A</th>\n",
       "      <th>Stock A</th>\n",
       "      <th>Stock B</th>\n",
       "    </tr>\n",
       "    <tr>\n",
       "      <th>Date</th>\n",
       "      <th></th>\n",
       "      <th></th>\n",
       "      <th></th>\n",
       "      <th></th>\n",
       "      <th></th>\n",
       "    </tr>\n",
       "  </thead>\n",
       "  <tbody>\n",
       "    <tr>\n",
       "      <th>2023-01-02</th>\n",
       "      <td>NaN</td>\n",
       "      <td>NaN</td>\n",
       "      <td>NaN</td>\n",
       "      <td>NaN</td>\n",
       "      <td>NaN</td>\n",
       "    </tr>\n",
       "    <tr>\n",
       "      <th>2023-01-03</th>\n",
       "      <td>NaN</td>\n",
       "      <td>NaN</td>\n",
       "      <td>NaN</td>\n",
       "      <td>1.838048</td>\n",
       "      <td>NaN</td>\n",
       "    </tr>\n",
       "    <tr>\n",
       "      <th>2023-01-04</th>\n",
       "      <td>-0.283823</td>\n",
       "      <td>NaN</td>\n",
       "      <td>NaN</td>\n",
       "      <td>NaN</td>\n",
       "      <td>NaN</td>\n",
       "    </tr>\n",
       "    <tr>\n",
       "      <th>2023-01-05</th>\n",
       "      <td>NaN</td>\n",
       "      <td>NaN</td>\n",
       "      <td>-0.638660</td>\n",
       "      <td>NaN</td>\n",
       "      <td>NaN</td>\n",
       "    </tr>\n",
       "    <tr>\n",
       "      <th>2023-01-07</th>\n",
       "      <td>NaN</td>\n",
       "      <td>NaN</td>\n",
       "      <td>1.567137</td>\n",
       "      <td>NaN</td>\n",
       "      <td>NaN</td>\n",
       "    </tr>\n",
       "  </tbody>\n",
       "</table>\n",
       "</div>"
      ],
      "text/plain": [
       "Asset         Bond A  Bond B  Commodity A   Stock A  Stock B\n",
       "Date                                                        \n",
       "2023-01-02       NaN     NaN          NaN       NaN      NaN\n",
       "2023-01-03       NaN     NaN          NaN  1.838048      NaN\n",
       "2023-01-04 -0.283823     NaN          NaN       NaN      NaN\n",
       "2023-01-05       NaN     NaN    -0.638660       NaN      NaN\n",
       "2023-01-07       NaN     NaN     1.567137       NaN      NaN"
      ]
     },
     "execution_count": 25,
     "metadata": {},
     "output_type": "execute_result"
    }
   ],
   "source": [
    "pivot_data = data.reset_index().pivot(index=\"Date\", columns=\"Asset\", values=\"return\")\n",
    "pivot_data.head()"
   ]
  },
  {
   "cell_type": "code",
   "execution_count": 26,
   "metadata": {},
   "outputs": [
    {
     "data": {
      "text/html": [
       "<div>\n",
       "<style scoped>\n",
       "    .dataframe tbody tr th:only-of-type {\n",
       "        vertical-align: middle;\n",
       "    }\n",
       "\n",
       "    .dataframe tbody tr th {\n",
       "        vertical-align: top;\n",
       "    }\n",
       "\n",
       "    .dataframe thead th {\n",
       "        text-align: right;\n",
       "    }\n",
       "</style>\n",
       "<table border=\"1\" class=\"dataframe\">\n",
       "  <thead>\n",
       "    <tr style=\"text-align: right;\">\n",
       "      <th>Asset</th>\n",
       "      <th>Bond A</th>\n",
       "      <th>Bond B</th>\n",
       "      <th>Commodity A</th>\n",
       "      <th>Stock A</th>\n",
       "      <th>Stock B</th>\n",
       "    </tr>\n",
       "    <tr>\n",
       "      <th>Asset</th>\n",
       "      <th></th>\n",
       "      <th></th>\n",
       "      <th></th>\n",
       "      <th></th>\n",
       "      <th></th>\n",
       "    </tr>\n",
       "  </thead>\n",
       "  <tbody>\n",
       "    <tr>\n",
       "      <th>Bond A</th>\n",
       "      <td>1.000000</td>\n",
       "      <td>-0.043729</td>\n",
       "      <td>-0.115973</td>\n",
       "      <td>-0.234267</td>\n",
       "      <td>-0.198601</td>\n",
       "    </tr>\n",
       "    <tr>\n",
       "      <th>Bond B</th>\n",
       "      <td>-0.043729</td>\n",
       "      <td>1.000000</td>\n",
       "      <td>-0.349057</td>\n",
       "      <td>0.180479</td>\n",
       "      <td>0.202751</td>\n",
       "    </tr>\n",
       "    <tr>\n",
       "      <th>Commodity A</th>\n",
       "      <td>-0.115973</td>\n",
       "      <td>-0.349057</td>\n",
       "      <td>1.000000</td>\n",
       "      <td>0.461493</td>\n",
       "      <td>0.210269</td>\n",
       "    </tr>\n",
       "    <tr>\n",
       "      <th>Stock A</th>\n",
       "      <td>-0.234267</td>\n",
       "      <td>0.180479</td>\n",
       "      <td>0.461493</td>\n",
       "      <td>1.000000</td>\n",
       "      <td>0.340772</td>\n",
       "    </tr>\n",
       "    <tr>\n",
       "      <th>Stock B</th>\n",
       "      <td>-0.198601</td>\n",
       "      <td>0.202751</td>\n",
       "      <td>0.210269</td>\n",
       "      <td>0.340772</td>\n",
       "      <td>1.000000</td>\n",
       "    </tr>\n",
       "  </tbody>\n",
       "</table>\n",
       "</div>"
      ],
      "text/plain": [
       "Asset          Bond A    Bond B  Commodity A   Stock A   Stock B\n",
       "Asset                                                           \n",
       "Bond A       1.000000 -0.043729    -0.115973 -0.234267 -0.198601\n",
       "Bond B      -0.043729  1.000000    -0.349057  0.180479  0.202751\n",
       "Commodity A -0.115973 -0.349057     1.000000  0.461493  0.210269\n",
       "Stock A     -0.234267  0.180479     0.461493  1.000000  0.340772\n",
       "Stock B     -0.198601  0.202751     0.210269  0.340772  1.000000"
      ]
     },
     "execution_count": 26,
     "metadata": {},
     "output_type": "execute_result"
    }
   ],
   "source": [
    "correlation_matrix = pivot_data.corr()\n",
    "correlation_matrix"
   ]
  },
  {
   "cell_type": "code",
   "execution_count": 27,
   "metadata": {},
   "outputs": [
    {
     "data": {
      "image/png": "[encoded data removed]",
      "text/plain": [
       "<Figure size 700x600 with 2 Axes>"
      ]
     },
     "metadata": {},
     "output_type": "display_data"
    }
   ],
   "source": [
    "plt.figure(figsize=(7, 6))\n",
    "sns.heatmap(correlation_matrix, annot=True, cmap=\"coolwarm\")\n",
    "plt.title(\"Correlation Matrix of the return of Assets\")\n",
    "plt.show()"
   ]
  },
  {
   "cell_type": "markdown",
   "metadata": {},
   "source": [
    "INFERENCE:\n",
    "1. There is no huge correlation between the returns pf the assets.\n",
    "2. The correlation between the returns of Commodity A and Stock A is 0.46. This means that there is moderate degree correlation between these assets\n",
    "3. The correlation between the returns of Stock A and Stock B is 0.34. This means that there is weak moderate degree correlation between these assets\n",
    "4. There are no other notable positive correlations in the dataset.\n",
    "5. The highest negative correlation is between the returns of Commodity A and Bond B which is -0.35. This means that there is weak moderate degree correlation between these assets\n",
    "6. The correlation between the returns of Stock A and Bond A is -0.23. This means that there is weak degree correlation between these assets\n",
    "7. There are no other notable negative correlations in the dataset.\n",
    "\n",
    "RECOMMENDATIONS BASED ON RETURNS:\n",
    "1. It is better not to invest stocks with high negative correlation as they tend to move in opposite directions. Money gained from one asset is neutralized from the loss of another asset.\n",
    "2. Therefore, do not invest in the following pairs together:\n",
    "    a) Stock A and Bond A\n",
    "    b) Bond B and Commodity A\n",
    "3. Assets with high positive correlation is high risk high reward as they tend to move in the same direction. Collapse in one is accompanied by collapse in the other.\n",
    "4. Investing in the following pair of assets together might give very high rewards but causes huge collapse when they collapse.\n",
    "  1. Stock A and Commodity A\n",
    "  2. Stock A and Stock B\n",
    "5. The safest pair of assets with lesser high rewards are the ones with correlation less than equal to -2.0 – 2.0.\n",
    "    a) Stock A and Bond B\n",
    "    b) Bond A and Bond B\n",
    "    c) Stock B and Bond B\n",
    "    d) Stock B and Commodity A\n",
    "    e) Stock A and Commodity A\n",
    "\n",
    "POSSIBLE STRATEGY:\n",
    "1) Since the best stock according to Sharpe Ratio is Bond B, it is best to invest in Bond B and then Stock A and Commodity A which have good positive correlation with Bond B. This strategy is the best when market is high but it turns out to be the worst when market is low.\n",
    "2) Since the best stock according to Sharpe Ratio is Bond B, Money can be put in Bond A and Bond B which have negligible correlation together. This strategy is no risk little reward."
   ]
  },
  {
   "cell_type": "markdown",
   "metadata": {},
   "source": []
  }
 ],
 "metadata": {
  "kernelspec": {
   "display_name": "FinancialRiskAnalysis",
   "language": "python",
   "name": "python3"
  },
  "language_info": {
   "codemirror_mode": {
    "name": "ipython",
    "version": 3
   },
   "file_extension": ".py",
   "mimetype": "text/x-python",
   "name": "python",
   "nbconvert_exporter": "python",
   "pygments_lexer": "ipython3",
   "version": "3.12.8"
  }
 },
 "nbformat": 4,
 "nbformat_minor": 2
}
